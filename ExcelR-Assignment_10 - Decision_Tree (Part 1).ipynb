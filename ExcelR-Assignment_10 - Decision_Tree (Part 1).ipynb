{
 "cells": [
  {
   "cell_type": "code",
   "execution_count": 8,
   "id": "ff6582eb",
   "metadata": {},
   "outputs": [],
   "source": [
    "import pandas as pd\n",
    "import matplotlib.pyplot as plt\n",
    "import numpy as np\n",
    "from sklearn import datasets\n",
    "from sklearn.model_selection import train_test_split\n",
    "from sklearn.tree import DecisionTreeClassifier\n",
    "from sklearn import tree\n",
    "from sklearn.metrics import classification_report\n",
    "from sklearn import preprocessing"
   ]
  },
  {
   "cell_type": "code",
   "execution_count": 92,
   "id": "836a210e",
   "metadata": {},
   "outputs": [
    {
     "data": {
      "text/html": [
       "<div>\n",
       "<style scoped>\n",
       "    .dataframe tbody tr th:only-of-type {\n",
       "        vertical-align: middle;\n",
       "    }\n",
       "\n",
       "    .dataframe tbody tr th {\n",
       "        vertical-align: top;\n",
       "    }\n",
       "\n",
       "    .dataframe thead th {\n",
       "        text-align: right;\n",
       "    }\n",
       "</style>\n",
       "<table border=\"1\" class=\"dataframe\">\n",
       "  <thead>\n",
       "    <tr style=\"text-align: right;\">\n",
       "      <th></th>\n",
       "      <th>Sales</th>\n",
       "      <th>CompPrice</th>\n",
       "      <th>Income</th>\n",
       "      <th>Advertising</th>\n",
       "      <th>Population</th>\n",
       "      <th>Price</th>\n",
       "      <th>ShelveLoc</th>\n",
       "      <th>Age</th>\n",
       "      <th>Education</th>\n",
       "      <th>Urban</th>\n",
       "      <th>US</th>\n",
       "    </tr>\n",
       "  </thead>\n",
       "  <tbody>\n",
       "    <tr>\n",
       "      <th>0</th>\n",
       "      <td>9.50</td>\n",
       "      <td>138</td>\n",
       "      <td>73</td>\n",
       "      <td>11</td>\n",
       "      <td>276</td>\n",
       "      <td>120</td>\n",
       "      <td>Bad</td>\n",
       "      <td>42</td>\n",
       "      <td>17</td>\n",
       "      <td>Yes</td>\n",
       "      <td>Yes</td>\n",
       "    </tr>\n",
       "    <tr>\n",
       "      <th>1</th>\n",
       "      <td>11.22</td>\n",
       "      <td>111</td>\n",
       "      <td>48</td>\n",
       "      <td>16</td>\n",
       "      <td>260</td>\n",
       "      <td>83</td>\n",
       "      <td>Good</td>\n",
       "      <td>65</td>\n",
       "      <td>10</td>\n",
       "      <td>Yes</td>\n",
       "      <td>Yes</td>\n",
       "    </tr>\n",
       "    <tr>\n",
       "      <th>2</th>\n",
       "      <td>10.06</td>\n",
       "      <td>113</td>\n",
       "      <td>35</td>\n",
       "      <td>10</td>\n",
       "      <td>269</td>\n",
       "      <td>80</td>\n",
       "      <td>Medium</td>\n",
       "      <td>59</td>\n",
       "      <td>12</td>\n",
       "      <td>Yes</td>\n",
       "      <td>Yes</td>\n",
       "    </tr>\n",
       "    <tr>\n",
       "      <th>3</th>\n",
       "      <td>7.40</td>\n",
       "      <td>117</td>\n",
       "      <td>100</td>\n",
       "      <td>4</td>\n",
       "      <td>466</td>\n",
       "      <td>97</td>\n",
       "      <td>Medium</td>\n",
       "      <td>55</td>\n",
       "      <td>14</td>\n",
       "      <td>Yes</td>\n",
       "      <td>Yes</td>\n",
       "    </tr>\n",
       "    <tr>\n",
       "      <th>4</th>\n",
       "      <td>4.15</td>\n",
       "      <td>141</td>\n",
       "      <td>64</td>\n",
       "      <td>3</td>\n",
       "      <td>340</td>\n",
       "      <td>128</td>\n",
       "      <td>Bad</td>\n",
       "      <td>38</td>\n",
       "      <td>13</td>\n",
       "      <td>Yes</td>\n",
       "      <td>No</td>\n",
       "    </tr>\n",
       "    <tr>\n",
       "      <th>...</th>\n",
       "      <td>...</td>\n",
       "      <td>...</td>\n",
       "      <td>...</td>\n",
       "      <td>...</td>\n",
       "      <td>...</td>\n",
       "      <td>...</td>\n",
       "      <td>...</td>\n",
       "      <td>...</td>\n",
       "      <td>...</td>\n",
       "      <td>...</td>\n",
       "      <td>...</td>\n",
       "    </tr>\n",
       "    <tr>\n",
       "      <th>395</th>\n",
       "      <td>12.57</td>\n",
       "      <td>138</td>\n",
       "      <td>108</td>\n",
       "      <td>17</td>\n",
       "      <td>203</td>\n",
       "      <td>128</td>\n",
       "      <td>Good</td>\n",
       "      <td>33</td>\n",
       "      <td>14</td>\n",
       "      <td>Yes</td>\n",
       "      <td>Yes</td>\n",
       "    </tr>\n",
       "    <tr>\n",
       "      <th>396</th>\n",
       "      <td>6.14</td>\n",
       "      <td>139</td>\n",
       "      <td>23</td>\n",
       "      <td>3</td>\n",
       "      <td>37</td>\n",
       "      <td>120</td>\n",
       "      <td>Medium</td>\n",
       "      <td>55</td>\n",
       "      <td>11</td>\n",
       "      <td>No</td>\n",
       "      <td>Yes</td>\n",
       "    </tr>\n",
       "    <tr>\n",
       "      <th>397</th>\n",
       "      <td>7.41</td>\n",
       "      <td>162</td>\n",
       "      <td>26</td>\n",
       "      <td>12</td>\n",
       "      <td>368</td>\n",
       "      <td>159</td>\n",
       "      <td>Medium</td>\n",
       "      <td>40</td>\n",
       "      <td>18</td>\n",
       "      <td>Yes</td>\n",
       "      <td>Yes</td>\n",
       "    </tr>\n",
       "    <tr>\n",
       "      <th>398</th>\n",
       "      <td>5.94</td>\n",
       "      <td>100</td>\n",
       "      <td>79</td>\n",
       "      <td>7</td>\n",
       "      <td>284</td>\n",
       "      <td>95</td>\n",
       "      <td>Bad</td>\n",
       "      <td>50</td>\n",
       "      <td>12</td>\n",
       "      <td>Yes</td>\n",
       "      <td>Yes</td>\n",
       "    </tr>\n",
       "    <tr>\n",
       "      <th>399</th>\n",
       "      <td>9.71</td>\n",
       "      <td>134</td>\n",
       "      <td>37</td>\n",
       "      <td>0</td>\n",
       "      <td>27</td>\n",
       "      <td>120</td>\n",
       "      <td>Good</td>\n",
       "      <td>49</td>\n",
       "      <td>16</td>\n",
       "      <td>Yes</td>\n",
       "      <td>Yes</td>\n",
       "    </tr>\n",
       "  </tbody>\n",
       "</table>\n",
       "<p>400 rows × 11 columns</p>\n",
       "</div>"
      ],
      "text/plain": [
       "     Sales  CompPrice  Income  Advertising  Population  Price ShelveLoc  Age  \\\n",
       "0     9.50        138      73           11         276    120       Bad   42   \n",
       "1    11.22        111      48           16         260     83      Good   65   \n",
       "2    10.06        113      35           10         269     80    Medium   59   \n",
       "3     7.40        117     100            4         466     97    Medium   55   \n",
       "4     4.15        141      64            3         340    128       Bad   38   \n",
       "..     ...        ...     ...          ...         ...    ...       ...  ...   \n",
       "395  12.57        138     108           17         203    128      Good   33   \n",
       "396   6.14        139      23            3          37    120    Medium   55   \n",
       "397   7.41        162      26           12         368    159    Medium   40   \n",
       "398   5.94        100      79            7         284     95       Bad   50   \n",
       "399   9.71        134      37            0          27    120      Good   49   \n",
       "\n",
       "     Education Urban   US  \n",
       "0           17   Yes  Yes  \n",
       "1           10   Yes  Yes  \n",
       "2           12   Yes  Yes  \n",
       "3           14   Yes  Yes  \n",
       "4           13   Yes   No  \n",
       "..         ...   ...  ...  \n",
       "395         14   Yes  Yes  \n",
       "396         11    No  Yes  \n",
       "397         18   Yes  Yes  \n",
       "398         12   Yes  Yes  \n",
       "399         16   Yes  Yes  \n",
       "\n",
       "[400 rows x 11 columns]"
      ]
     },
     "execution_count": 92,
     "metadata": {},
     "output_type": "execute_result"
    }
   ],
   "source": [
    "company = pd.read_csv('Company_Data.csv')\n",
    "company"
   ]
  },
  {
   "cell_type": "code",
   "execution_count": 93,
   "id": "aab743b4",
   "metadata": {},
   "outputs": [],
   "source": [
    "company['ShelveLoc'] = pd.to_numeric(company['ShelveLoc'], errors='coerce')"
   ]
  },
  {
   "cell_type": "code",
   "execution_count": 94,
   "id": "9a59e299",
   "metadata": {},
   "outputs": [],
   "source": [
    "company['Urban'] = pd.to_numeric(company['Urban'], errors='coerce')"
   ]
  },
  {
   "cell_type": "code",
   "execution_count": 95,
   "id": "2f8467c5",
   "metadata": {},
   "outputs": [
    {
     "data": {
      "text/plain": [
       "Sales            0\n",
       "CompPrice        0\n",
       "Income           0\n",
       "Advertising      0\n",
       "Population       0\n",
       "Price            0\n",
       "ShelveLoc      400\n",
       "Age              0\n",
       "Education        0\n",
       "Urban          400\n",
       "US               0\n",
       "dtype: int64"
      ]
     },
     "execution_count": 95,
     "metadata": {},
     "output_type": "execute_result"
    }
   ],
   "source": [
    "company.isna().sum()"
   ]
  },
  {
   "cell_type": "code",
   "execution_count": 96,
   "id": "0b26dff8",
   "metadata": {},
   "outputs": [],
   "source": [
    "company.replace([np.inf, -np.inf], np.nan, inplace=True)"
   ]
  },
  {
   "cell_type": "code",
   "execution_count": 115,
   "id": "30afca57",
   "metadata": {},
   "outputs": [],
   "source": [
    "del company['ShelveLoc']"
   ]
  },
  {
   "cell_type": "code",
   "execution_count": null,
   "id": "8b34a706",
   "metadata": {},
   "outputs": [],
   "source": []
  },
  {
   "cell_type": "code",
   "execution_count": null,
   "id": "c05b01a3",
   "metadata": {},
   "outputs": [],
   "source": []
  },
  {
   "cell_type": "code",
   "execution_count": 116,
   "id": "e1b2dbe6",
   "metadata": {},
   "outputs": [
    {
     "data": {
      "text/plain": [
       "Sales          float64\n",
       "CompPrice        int64\n",
       "Income           int64\n",
       "Advertising      int64\n",
       "Population       int64\n",
       "Price            int64\n",
       "Age              int64\n",
       "Education        int64\n",
       "Urban            int64\n",
       "US               int32\n",
       "dtype: object"
      ]
     },
     "execution_count": 116,
     "metadata": {},
     "output_type": "execute_result"
    }
   ],
   "source": [
    "company.dtypes"
   ]
  },
  {
   "cell_type": "code",
   "execution_count": null,
   "id": "4b9bad39",
   "metadata": {},
   "outputs": [],
   "source": []
  },
  {
   "cell_type": "code",
   "execution_count": 117,
   "id": "f15f0c67",
   "metadata": {},
   "outputs": [
    {
     "data": {
      "text/plain": [
       "1    258\n",
       "0    142\n",
       "Name: US, dtype: int64"
      ]
     },
     "execution_count": 117,
     "metadata": {},
     "output_type": "execute_result"
    }
   ],
   "source": [
    "company['US'].value_counts()"
   ]
  },
  {
   "cell_type": "code",
   "execution_count": 118,
   "id": "ff91afa3",
   "metadata": {},
   "outputs": [],
   "source": [
    "# Complete Company dataset\n",
    "label_encoder = preprocessing.LabelEncoder()\n",
    "company['US'] = label_encoder.fit_transform(company['US'])"
   ]
  },
  {
   "cell_type": "code",
   "execution_count": 119,
   "id": "253d59ec",
   "metadata": {},
   "outputs": [],
   "source": [
    "label_encoder = preprocessing.LabelEncoder()\n",
    "company['Urban'] = label_encoder.fit_transform(company['Urban'])"
   ]
  },
  {
   "cell_type": "code",
   "execution_count": 120,
   "id": "2fce8939",
   "metadata": {},
   "outputs": [
    {
     "data": {
      "text/plain": [
       "0      1\n",
       "1      1\n",
       "2      1\n",
       "3      1\n",
       "4      0\n",
       "      ..\n",
       "395    1\n",
       "396    1\n",
       "397    1\n",
       "398    1\n",
       "399    1\n",
       "Name: US, Length: 400, dtype: int64"
      ]
     },
     "execution_count": 120,
     "metadata": {},
     "output_type": "execute_result"
    }
   ],
   "source": [
    "company['US']"
   ]
  },
  {
   "cell_type": "code",
   "execution_count": 121,
   "id": "39bbb289",
   "metadata": {},
   "outputs": [
    {
     "data": {
      "text/plain": [
       "0      0\n",
       "1      0\n",
       "2      0\n",
       "3      0\n",
       "4      0\n",
       "      ..\n",
       "395    0\n",
       "396    0\n",
       "397    0\n",
       "398    0\n",
       "399    0\n",
       "Name: Urban, Length: 400, dtype: int64"
      ]
     },
     "execution_count": 121,
     "metadata": {},
     "output_type": "execute_result"
    }
   ],
   "source": [
    "company['Urban']"
   ]
  },
  {
   "cell_type": "code",
   "execution_count": 122,
   "id": "65ccff1e",
   "metadata": {},
   "outputs": [
    {
     "data": {
      "text/plain": [
       "1    258\n",
       "0    142\n",
       "Name: US, dtype: int64"
      ]
     },
     "execution_count": 122,
     "metadata": {},
     "output_type": "execute_result"
    }
   ],
   "source": [
    "company['US'].value_counts()"
   ]
  },
  {
   "cell_type": "code",
   "execution_count": 123,
   "id": "5d75b256",
   "metadata": {},
   "outputs": [],
   "source": [
    "x = company.iloc[:,0:10]\n",
    "y = company['US']"
   ]
  },
  {
   "cell_type": "code",
   "execution_count": 124,
   "id": "b17d1a1e",
   "metadata": {},
   "outputs": [
    {
     "data": {
      "text/html": [
       "<div>\n",
       "<style scoped>\n",
       "    .dataframe tbody tr th:only-of-type {\n",
       "        vertical-align: middle;\n",
       "    }\n",
       "\n",
       "    .dataframe tbody tr th {\n",
       "        vertical-align: top;\n",
       "    }\n",
       "\n",
       "    .dataframe thead th {\n",
       "        text-align: right;\n",
       "    }\n",
       "</style>\n",
       "<table border=\"1\" class=\"dataframe\">\n",
       "  <thead>\n",
       "    <tr style=\"text-align: right;\">\n",
       "      <th></th>\n",
       "      <th>Sales</th>\n",
       "      <th>CompPrice</th>\n",
       "      <th>Income</th>\n",
       "      <th>Advertising</th>\n",
       "      <th>Population</th>\n",
       "      <th>Price</th>\n",
       "      <th>Age</th>\n",
       "      <th>Education</th>\n",
       "      <th>Urban</th>\n",
       "      <th>US</th>\n",
       "    </tr>\n",
       "  </thead>\n",
       "  <tbody>\n",
       "    <tr>\n",
       "      <th>0</th>\n",
       "      <td>9.50</td>\n",
       "      <td>138</td>\n",
       "      <td>73</td>\n",
       "      <td>11</td>\n",
       "      <td>276</td>\n",
       "      <td>120</td>\n",
       "      <td>42</td>\n",
       "      <td>17</td>\n",
       "      <td>0</td>\n",
       "      <td>1</td>\n",
       "    </tr>\n",
       "    <tr>\n",
       "      <th>1</th>\n",
       "      <td>11.22</td>\n",
       "      <td>111</td>\n",
       "      <td>48</td>\n",
       "      <td>16</td>\n",
       "      <td>260</td>\n",
       "      <td>83</td>\n",
       "      <td>65</td>\n",
       "      <td>10</td>\n",
       "      <td>0</td>\n",
       "      <td>1</td>\n",
       "    </tr>\n",
       "    <tr>\n",
       "      <th>2</th>\n",
       "      <td>10.06</td>\n",
       "      <td>113</td>\n",
       "      <td>35</td>\n",
       "      <td>10</td>\n",
       "      <td>269</td>\n",
       "      <td>80</td>\n",
       "      <td>59</td>\n",
       "      <td>12</td>\n",
       "      <td>0</td>\n",
       "      <td>1</td>\n",
       "    </tr>\n",
       "    <tr>\n",
       "      <th>3</th>\n",
       "      <td>7.40</td>\n",
       "      <td>117</td>\n",
       "      <td>100</td>\n",
       "      <td>4</td>\n",
       "      <td>466</td>\n",
       "      <td>97</td>\n",
       "      <td>55</td>\n",
       "      <td>14</td>\n",
       "      <td>0</td>\n",
       "      <td>1</td>\n",
       "    </tr>\n",
       "    <tr>\n",
       "      <th>4</th>\n",
       "      <td>4.15</td>\n",
       "      <td>141</td>\n",
       "      <td>64</td>\n",
       "      <td>3</td>\n",
       "      <td>340</td>\n",
       "      <td>128</td>\n",
       "      <td>38</td>\n",
       "      <td>13</td>\n",
       "      <td>0</td>\n",
       "      <td>0</td>\n",
       "    </tr>\n",
       "    <tr>\n",
       "      <th>...</th>\n",
       "      <td>...</td>\n",
       "      <td>...</td>\n",
       "      <td>...</td>\n",
       "      <td>...</td>\n",
       "      <td>...</td>\n",
       "      <td>...</td>\n",
       "      <td>...</td>\n",
       "      <td>...</td>\n",
       "      <td>...</td>\n",
       "      <td>...</td>\n",
       "    </tr>\n",
       "    <tr>\n",
       "      <th>395</th>\n",
       "      <td>12.57</td>\n",
       "      <td>138</td>\n",
       "      <td>108</td>\n",
       "      <td>17</td>\n",
       "      <td>203</td>\n",
       "      <td>128</td>\n",
       "      <td>33</td>\n",
       "      <td>14</td>\n",
       "      <td>0</td>\n",
       "      <td>1</td>\n",
       "    </tr>\n",
       "    <tr>\n",
       "      <th>396</th>\n",
       "      <td>6.14</td>\n",
       "      <td>139</td>\n",
       "      <td>23</td>\n",
       "      <td>3</td>\n",
       "      <td>37</td>\n",
       "      <td>120</td>\n",
       "      <td>55</td>\n",
       "      <td>11</td>\n",
       "      <td>0</td>\n",
       "      <td>1</td>\n",
       "    </tr>\n",
       "    <tr>\n",
       "      <th>397</th>\n",
       "      <td>7.41</td>\n",
       "      <td>162</td>\n",
       "      <td>26</td>\n",
       "      <td>12</td>\n",
       "      <td>368</td>\n",
       "      <td>159</td>\n",
       "      <td>40</td>\n",
       "      <td>18</td>\n",
       "      <td>0</td>\n",
       "      <td>1</td>\n",
       "    </tr>\n",
       "    <tr>\n",
       "      <th>398</th>\n",
       "      <td>5.94</td>\n",
       "      <td>100</td>\n",
       "      <td>79</td>\n",
       "      <td>7</td>\n",
       "      <td>284</td>\n",
       "      <td>95</td>\n",
       "      <td>50</td>\n",
       "      <td>12</td>\n",
       "      <td>0</td>\n",
       "      <td>1</td>\n",
       "    </tr>\n",
       "    <tr>\n",
       "      <th>399</th>\n",
       "      <td>9.71</td>\n",
       "      <td>134</td>\n",
       "      <td>37</td>\n",
       "      <td>0</td>\n",
       "      <td>27</td>\n",
       "      <td>120</td>\n",
       "      <td>49</td>\n",
       "      <td>16</td>\n",
       "      <td>0</td>\n",
       "      <td>1</td>\n",
       "    </tr>\n",
       "  </tbody>\n",
       "</table>\n",
       "<p>400 rows × 10 columns</p>\n",
       "</div>"
      ],
      "text/plain": [
       "     Sales  CompPrice  Income  Advertising  Population  Price  Age  Education  \\\n",
       "0     9.50        138      73           11         276    120   42         17   \n",
       "1    11.22        111      48           16         260     83   65         10   \n",
       "2    10.06        113      35           10         269     80   59         12   \n",
       "3     7.40        117     100            4         466     97   55         14   \n",
       "4     4.15        141      64            3         340    128   38         13   \n",
       "..     ...        ...     ...          ...         ...    ...  ...        ...   \n",
       "395  12.57        138     108           17         203    128   33         14   \n",
       "396   6.14        139      23            3          37    120   55         11   \n",
       "397   7.41        162      26           12         368    159   40         18   \n",
       "398   5.94        100      79            7         284     95   50         12   \n",
       "399   9.71        134      37            0          27    120   49         16   \n",
       "\n",
       "     Urban  US  \n",
       "0        0   1  \n",
       "1        0   1  \n",
       "2        0   1  \n",
       "3        0   1  \n",
       "4        0   0  \n",
       "..     ...  ..  \n",
       "395      0   1  \n",
       "396      0   1  \n",
       "397      0   1  \n",
       "398      0   1  \n",
       "399      0   1  \n",
       "\n",
       "[400 rows x 10 columns]"
      ]
     },
     "execution_count": 124,
     "metadata": {},
     "output_type": "execute_result"
    }
   ],
   "source": [
    "x"
   ]
  },
  {
   "cell_type": "code",
   "execution_count": 125,
   "id": "992ed44d",
   "metadata": {},
   "outputs": [
    {
     "data": {
      "text/plain": [
       "0      1\n",
       "1      1\n",
       "2      1\n",
       "3      1\n",
       "4      0\n",
       "      ..\n",
       "395    1\n",
       "396    1\n",
       "397    1\n",
       "398    1\n",
       "399    1\n",
       "Name: US, Length: 400, dtype: int64"
      ]
     },
     "execution_count": 125,
     "metadata": {},
     "output_type": "execute_result"
    }
   ],
   "source": [
    "y"
   ]
  },
  {
   "cell_type": "code",
   "execution_count": 126,
   "id": "2691ed40",
   "metadata": {},
   "outputs": [
    {
     "data": {
      "text/plain": [
       "array([1, 0], dtype=int64)"
      ]
     },
     "execution_count": 126,
     "metadata": {},
     "output_type": "execute_result"
    }
   ],
   "source": [
    "company['US'].unique()"
   ]
  },
  {
   "cell_type": "code",
   "execution_count": 127,
   "id": "37bde807",
   "metadata": {},
   "outputs": [
    {
     "data": {
      "text/plain": [
       "['Sales',\n",
       " 'CompPrice',\n",
       " 'Income',\n",
       " 'Advertising',\n",
       " 'Population',\n",
       " 'Price',\n",
       " 'Age',\n",
       " 'Education',\n",
       " 'Urban',\n",
       " 'US']"
      ]
     },
     "execution_count": 127,
     "metadata": {},
     "output_type": "execute_result"
    }
   ],
   "source": [
    "colnames = list(company.columns)\n",
    "colnames"
   ]
  },
  {
   "cell_type": "code",
   "execution_count": 128,
   "id": "1a097a97",
   "metadata": {},
   "outputs": [],
   "source": [
    "# splitting data into training and testing dataset\n",
    "x_train, x_test, y_train, y_test = train_test_split(x,y, test_size = 0.2, random_state= 40)"
   ]
  },
  {
   "cell_type": "code",
   "execution_count": 129,
   "id": "926cd9e8",
   "metadata": {},
   "outputs": [
    {
     "data": {
      "text/html": [
       "<div>\n",
       "<style scoped>\n",
       "    .dataframe tbody tr th:only-of-type {\n",
       "        vertical-align: middle;\n",
       "    }\n",
       "\n",
       "    .dataframe tbody tr th {\n",
       "        vertical-align: top;\n",
       "    }\n",
       "\n",
       "    .dataframe thead th {\n",
       "        text-align: right;\n",
       "    }\n",
       "</style>\n",
       "<table border=\"1\" class=\"dataframe\">\n",
       "  <thead>\n",
       "    <tr style=\"text-align: right;\">\n",
       "      <th></th>\n",
       "      <th>Sales</th>\n",
       "      <th>CompPrice</th>\n",
       "      <th>Income</th>\n",
       "      <th>Advertising</th>\n",
       "      <th>Population</th>\n",
       "      <th>Price</th>\n",
       "      <th>Age</th>\n",
       "      <th>Education</th>\n",
       "      <th>Urban</th>\n",
       "      <th>US</th>\n",
       "    </tr>\n",
       "  </thead>\n",
       "  <tbody>\n",
       "    <tr>\n",
       "      <th>85</th>\n",
       "      <td>8.47</td>\n",
       "      <td>125</td>\n",
       "      <td>103</td>\n",
       "      <td>0</td>\n",
       "      <td>304</td>\n",
       "      <td>112</td>\n",
       "      <td>49</td>\n",
       "      <td>13</td>\n",
       "      <td>0</td>\n",
       "      <td>0</td>\n",
       "    </tr>\n",
       "    <tr>\n",
       "      <th>69</th>\n",
       "      <td>7.99</td>\n",
       "      <td>127</td>\n",
       "      <td>59</td>\n",
       "      <td>0</td>\n",
       "      <td>339</td>\n",
       "      <td>99</td>\n",
       "      <td>65</td>\n",
       "      <td>12</td>\n",
       "      <td>0</td>\n",
       "      <td>0</td>\n",
       "    </tr>\n",
       "    <tr>\n",
       "      <th>203</th>\n",
       "      <td>2.05</td>\n",
       "      <td>131</td>\n",
       "      <td>82</td>\n",
       "      <td>0</td>\n",
       "      <td>132</td>\n",
       "      <td>157</td>\n",
       "      <td>25</td>\n",
       "      <td>14</td>\n",
       "      <td>0</td>\n",
       "      <td>0</td>\n",
       "    </tr>\n",
       "    <tr>\n",
       "      <th>379</th>\n",
       "      <td>5.81</td>\n",
       "      <td>125</td>\n",
       "      <td>111</td>\n",
       "      <td>0</td>\n",
       "      <td>404</td>\n",
       "      <td>107</td>\n",
       "      <td>54</td>\n",
       "      <td>15</td>\n",
       "      <td>0</td>\n",
       "      <td>0</td>\n",
       "    </tr>\n",
       "    <tr>\n",
       "      <th>261</th>\n",
       "      <td>5.71</td>\n",
       "      <td>121</td>\n",
       "      <td>42</td>\n",
       "      <td>4</td>\n",
       "      <td>188</td>\n",
       "      <td>118</td>\n",
       "      <td>54</td>\n",
       "      <td>15</td>\n",
       "      <td>0</td>\n",
       "      <td>1</td>\n",
       "    </tr>\n",
       "    <tr>\n",
       "      <th>...</th>\n",
       "      <td>...</td>\n",
       "      <td>...</td>\n",
       "      <td>...</td>\n",
       "      <td>...</td>\n",
       "      <td>...</td>\n",
       "      <td>...</td>\n",
       "      <td>...</td>\n",
       "      <td>...</td>\n",
       "      <td>...</td>\n",
       "      <td>...</td>\n",
       "    </tr>\n",
       "    <tr>\n",
       "      <th>306</th>\n",
       "      <td>4.78</td>\n",
       "      <td>131</td>\n",
       "      <td>32</td>\n",
       "      <td>1</td>\n",
       "      <td>85</td>\n",
       "      <td>133</td>\n",
       "      <td>48</td>\n",
       "      <td>12</td>\n",
       "      <td>0</td>\n",
       "      <td>1</td>\n",
       "    </tr>\n",
       "    <tr>\n",
       "      <th>165</th>\n",
       "      <td>0.37</td>\n",
       "      <td>147</td>\n",
       "      <td>58</td>\n",
       "      <td>7</td>\n",
       "      <td>100</td>\n",
       "      <td>191</td>\n",
       "      <td>27</td>\n",
       "      <td>15</td>\n",
       "      <td>0</td>\n",
       "      <td>1</td>\n",
       "    </tr>\n",
       "    <tr>\n",
       "      <th>7</th>\n",
       "      <td>11.85</td>\n",
       "      <td>136</td>\n",
       "      <td>81</td>\n",
       "      <td>15</td>\n",
       "      <td>425</td>\n",
       "      <td>120</td>\n",
       "      <td>67</td>\n",
       "      <td>10</td>\n",
       "      <td>0</td>\n",
       "      <td>1</td>\n",
       "    </tr>\n",
       "    <tr>\n",
       "      <th>219</th>\n",
       "      <td>10.62</td>\n",
       "      <td>116</td>\n",
       "      <td>79</td>\n",
       "      <td>19</td>\n",
       "      <td>359</td>\n",
       "      <td>116</td>\n",
       "      <td>58</td>\n",
       "      <td>17</td>\n",
       "      <td>0</td>\n",
       "      <td>1</td>\n",
       "    </tr>\n",
       "    <tr>\n",
       "      <th>326</th>\n",
       "      <td>4.69</td>\n",
       "      <td>133</td>\n",
       "      <td>30</td>\n",
       "      <td>0</td>\n",
       "      <td>152</td>\n",
       "      <td>122</td>\n",
       "      <td>53</td>\n",
       "      <td>17</td>\n",
       "      <td>0</td>\n",
       "      <td>0</td>\n",
       "    </tr>\n",
       "  </tbody>\n",
       "</table>\n",
       "<p>320 rows × 10 columns</p>\n",
       "</div>"
      ],
      "text/plain": [
       "     Sales  CompPrice  Income  Advertising  Population  Price  Age  Education  \\\n",
       "85    8.47        125     103            0         304    112   49         13   \n",
       "69    7.99        127      59            0         339     99   65         12   \n",
       "203   2.05        131      82            0         132    157   25         14   \n",
       "379   5.81        125     111            0         404    107   54         15   \n",
       "261   5.71        121      42            4         188    118   54         15   \n",
       "..     ...        ...     ...          ...         ...    ...  ...        ...   \n",
       "306   4.78        131      32            1          85    133   48         12   \n",
       "165   0.37        147      58            7         100    191   27         15   \n",
       "7    11.85        136      81           15         425    120   67         10   \n",
       "219  10.62        116      79           19         359    116   58         17   \n",
       "326   4.69        133      30            0         152    122   53         17   \n",
       "\n",
       "     Urban  US  \n",
       "85       0   0  \n",
       "69       0   0  \n",
       "203      0   0  \n",
       "379      0   0  \n",
       "261      0   1  \n",
       "..     ...  ..  \n",
       "306      0   1  \n",
       "165      0   1  \n",
       "7        0   1  \n",
       "219      0   1  \n",
       "326      0   0  \n",
       "\n",
       "[320 rows x 10 columns]"
      ]
     },
     "execution_count": 129,
     "metadata": {},
     "output_type": "execute_result"
    }
   ],
   "source": [
    "x_train"
   ]
  },
  {
   "cell_type": "code",
   "execution_count": 130,
   "id": "9b01acdb",
   "metadata": {},
   "outputs": [
    {
     "data": {
      "text/plain": [
       "85     0\n",
       "69     0\n",
       "203    0\n",
       "379    0\n",
       "261    1\n",
       "      ..\n",
       "306    1\n",
       "165    1\n",
       "7      1\n",
       "219    1\n",
       "326    0\n",
       "Name: US, Length: 320, dtype: int64"
      ]
     },
     "execution_count": 130,
     "metadata": {},
     "output_type": "execute_result"
    }
   ],
   "source": [
    "y_train"
   ]
  },
  {
   "cell_type": "code",
   "execution_count": 131,
   "id": "cb83adef",
   "metadata": {},
   "outputs": [
    {
     "data": {
      "text/html": [
       "<div>\n",
       "<style scoped>\n",
       "    .dataframe tbody tr th:only-of-type {\n",
       "        vertical-align: middle;\n",
       "    }\n",
       "\n",
       "    .dataframe tbody tr th {\n",
       "        vertical-align: top;\n",
       "    }\n",
       "\n",
       "    .dataframe thead th {\n",
       "        text-align: right;\n",
       "    }\n",
       "</style>\n",
       "<table border=\"1\" class=\"dataframe\">\n",
       "  <thead>\n",
       "    <tr style=\"text-align: right;\">\n",
       "      <th></th>\n",
       "      <th>Sales</th>\n",
       "      <th>CompPrice</th>\n",
       "      <th>Income</th>\n",
       "      <th>Advertising</th>\n",
       "      <th>Population</th>\n",
       "      <th>Price</th>\n",
       "      <th>Age</th>\n",
       "      <th>Education</th>\n",
       "      <th>Urban</th>\n",
       "      <th>US</th>\n",
       "    </tr>\n",
       "  </thead>\n",
       "  <tbody>\n",
       "    <tr>\n",
       "      <th>132</th>\n",
       "      <td>9.54</td>\n",
       "      <td>125</td>\n",
       "      <td>87</td>\n",
       "      <td>9</td>\n",
       "      <td>232</td>\n",
       "      <td>136</td>\n",
       "      <td>72</td>\n",
       "      <td>10</td>\n",
       "      <td>0</td>\n",
       "      <td>1</td>\n",
       "    </tr>\n",
       "    <tr>\n",
       "      <th>390</th>\n",
       "      <td>5.47</td>\n",
       "      <td>108</td>\n",
       "      <td>75</td>\n",
       "      <td>9</td>\n",
       "      <td>61</td>\n",
       "      <td>111</td>\n",
       "      <td>67</td>\n",
       "      <td>12</td>\n",
       "      <td>0</td>\n",
       "      <td>1</td>\n",
       "    </tr>\n",
       "    <tr>\n",
       "      <th>310</th>\n",
       "      <td>9.53</td>\n",
       "      <td>175</td>\n",
       "      <td>65</td>\n",
       "      <td>29</td>\n",
       "      <td>419</td>\n",
       "      <td>166</td>\n",
       "      <td>53</td>\n",
       "      <td>12</td>\n",
       "      <td>0</td>\n",
       "      <td>1</td>\n",
       "    </tr>\n",
       "    <tr>\n",
       "      <th>3</th>\n",
       "      <td>7.40</td>\n",
       "      <td>117</td>\n",
       "      <td>100</td>\n",
       "      <td>4</td>\n",
       "      <td>466</td>\n",
       "      <td>97</td>\n",
       "      <td>55</td>\n",
       "      <td>14</td>\n",
       "      <td>0</td>\n",
       "      <td>1</td>\n",
       "    </tr>\n",
       "    <tr>\n",
       "      <th>248</th>\n",
       "      <td>5.36</td>\n",
       "      <td>111</td>\n",
       "      <td>52</td>\n",
       "      <td>0</td>\n",
       "      <td>12</td>\n",
       "      <td>101</td>\n",
       "      <td>61</td>\n",
       "      <td>11</td>\n",
       "      <td>0</td>\n",
       "      <td>1</td>\n",
       "    </tr>\n",
       "    <tr>\n",
       "      <th>...</th>\n",
       "      <td>...</td>\n",
       "      <td>...</td>\n",
       "      <td>...</td>\n",
       "      <td>...</td>\n",
       "      <td>...</td>\n",
       "      <td>...</td>\n",
       "      <td>...</td>\n",
       "      <td>...</td>\n",
       "      <td>...</td>\n",
       "      <td>...</td>\n",
       "    </tr>\n",
       "    <tr>\n",
       "      <th>361</th>\n",
       "      <td>8.68</td>\n",
       "      <td>131</td>\n",
       "      <td>25</td>\n",
       "      <td>10</td>\n",
       "      <td>183</td>\n",
       "      <td>104</td>\n",
       "      <td>56</td>\n",
       "      <td>15</td>\n",
       "      <td>0</td>\n",
       "      <td>1</td>\n",
       "    </tr>\n",
       "    <tr>\n",
       "      <th>197</th>\n",
       "      <td>2.52</td>\n",
       "      <td>124</td>\n",
       "      <td>61</td>\n",
       "      <td>0</td>\n",
       "      <td>333</td>\n",
       "      <td>138</td>\n",
       "      <td>76</td>\n",
       "      <td>16</td>\n",
       "      <td>0</td>\n",
       "      <td>0</td>\n",
       "    </tr>\n",
       "    <tr>\n",
       "      <th>23</th>\n",
       "      <td>5.87</td>\n",
       "      <td>121</td>\n",
       "      <td>31</td>\n",
       "      <td>0</td>\n",
       "      <td>292</td>\n",
       "      <td>109</td>\n",
       "      <td>79</td>\n",
       "      <td>10</td>\n",
       "      <td>0</td>\n",
       "      <td>0</td>\n",
       "    </tr>\n",
       "    <tr>\n",
       "      <th>54</th>\n",
       "      <td>4.90</td>\n",
       "      <td>134</td>\n",
       "      <td>103</td>\n",
       "      <td>13</td>\n",
       "      <td>25</td>\n",
       "      <td>144</td>\n",
       "      <td>76</td>\n",
       "      <td>17</td>\n",
       "      <td>0</td>\n",
       "      <td>1</td>\n",
       "    </tr>\n",
       "    <tr>\n",
       "      <th>58</th>\n",
       "      <td>5.42</td>\n",
       "      <td>103</td>\n",
       "      <td>93</td>\n",
       "      <td>15</td>\n",
       "      <td>188</td>\n",
       "      <td>103</td>\n",
       "      <td>74</td>\n",
       "      <td>16</td>\n",
       "      <td>0</td>\n",
       "      <td>1</td>\n",
       "    </tr>\n",
       "  </tbody>\n",
       "</table>\n",
       "<p>80 rows × 10 columns</p>\n",
       "</div>"
      ],
      "text/plain": [
       "     Sales  CompPrice  Income  Advertising  Population  Price  Age  Education  \\\n",
       "132   9.54        125      87            9         232    136   72         10   \n",
       "390   5.47        108      75            9          61    111   67         12   \n",
       "310   9.53        175      65           29         419    166   53         12   \n",
       "3     7.40        117     100            4         466     97   55         14   \n",
       "248   5.36        111      52            0          12    101   61         11   \n",
       "..     ...        ...     ...          ...         ...    ...  ...        ...   \n",
       "361   8.68        131      25           10         183    104   56         15   \n",
       "197   2.52        124      61            0         333    138   76         16   \n",
       "23    5.87        121      31            0         292    109   79         10   \n",
       "54    4.90        134     103           13          25    144   76         17   \n",
       "58    5.42        103      93           15         188    103   74         16   \n",
       "\n",
       "     Urban  US  \n",
       "132      0   1  \n",
       "390      0   1  \n",
       "310      0   1  \n",
       "3        0   1  \n",
       "248      0   1  \n",
       "..     ...  ..  \n",
       "361      0   1  \n",
       "197      0   0  \n",
       "23       0   0  \n",
       "54       0   1  \n",
       "58       0   1  \n",
       "\n",
       "[80 rows x 10 columns]"
      ]
     },
     "execution_count": 131,
     "metadata": {},
     "output_type": "execute_result"
    }
   ],
   "source": [
    "x_test"
   ]
  },
  {
   "cell_type": "code",
   "execution_count": 132,
   "id": "41f8c53e",
   "metadata": {},
   "outputs": [
    {
     "data": {
      "text/plain": [
       "132    1\n",
       "390    1\n",
       "310    1\n",
       "3      1\n",
       "248    1\n",
       "      ..\n",
       "361    1\n",
       "197    0\n",
       "23     0\n",
       "54     1\n",
       "58     1\n",
       "Name: US, Length: 80, dtype: int64"
      ]
     },
     "execution_count": 132,
     "metadata": {},
     "output_type": "execute_result"
    }
   ],
   "source": [
    "y_test"
   ]
  },
  {
   "cell_type": "markdown",
   "id": "7826b3c4",
   "metadata": {},
   "source": [
    "### Building Decision Tree Classifier using Entropy Criteria"
   ]
  },
  {
   "cell_type": "code",
   "execution_count": 133,
   "id": "647890d3",
   "metadata": {},
   "outputs": [
    {
     "data": {
      "text/plain": [
       "DecisionTreeClassifier(criterion='entropy', max_depth=3)"
      ]
     },
     "execution_count": 133,
     "metadata": {},
     "output_type": "execute_result"
    }
   ],
   "source": [
    "model = DecisionTreeClassifier(criterion = 'entropy', max_depth = 3)\n",
    "model.fit(x_train, y_train)"
   ]
  },
  {
   "cell_type": "code",
   "execution_count": 136,
   "id": "6dce1824",
   "metadata": {},
   "outputs": [
    {
     "data": {
      "image/png": "[encoded data removed]",
      "text/plain": [
       "<Figure size 600x1200 with 1 Axes>"
      ]
     },
     "metadata": {
      "needs_background": "light"
     },
     "output_type": "display_data"
    }
   ],
   "source": [
    "fig, axes = plt.subplots(nrows = 1, ncols = 1, figsize = (2,4), dpi = 300)\n",
    "# plot the decision tree\n",
    "tree.plot_tree(model);"
   ]
  },
  {
   "cell_type": "code",
   "execution_count": 139,
   "id": "c363c9a9",
   "metadata": {},
   "outputs": [
    {
     "data": {
      "text/plain": [
       "1    45\n",
       "0    35\n",
       "dtype: int64"
      ]
     },
     "execution_count": 139,
     "metadata": {},
     "output_type": "execute_result"
    }
   ],
   "source": [
    "# 0 label = No\n",
    "# 1 label = Yes\n",
    "\n",
    "# Predicting on test data\n",
    "preds = model.predict(x_test) #predicting on test dataset\n",
    "pd.Series(preds).value_counts() # getting the count of each category"
   ]
  },
  {
   "cell_type": "code",
   "execution_count": 140,
   "id": "29f934f9",
   "metadata": {},
   "outputs": [
    {
     "data": {
      "text/plain": [
       "array([1, 1, 1, 1, 1, 0, 1, 0, 0, 1, 0, 0, 1, 0, 1, 0, 1, 1, 1, 1, 1, 1,\n",
       "       0, 1, 1, 0, 1, 0, 1, 1, 1, 0, 1, 1, 0, 0, 1, 0, 1, 1, 1, 0, 1, 0,\n",
       "       0, 1, 1, 0, 0, 1, 0, 0, 1, 0, 1, 1, 1, 0, 0, 1, 0, 1, 1, 0, 0, 0,\n",
       "       1, 0, 0, 1, 1, 1, 0, 0, 0, 1, 0, 0, 1, 1], dtype=int64)"
      ]
     },
     "execution_count": 140,
     "metadata": {},
     "output_type": "execute_result"
    }
   ],
   "source": [
    "preds"
   ]
  },
  {
   "cell_type": "code",
   "execution_count": 141,
   "id": "c1b09670",
   "metadata": {},
   "outputs": [
    {
     "data": {
      "text/html": [
       "<div>\n",
       "<style scoped>\n",
       "    .dataframe tbody tr th:only-of-type {\n",
       "        vertical-align: middle;\n",
       "    }\n",
       "\n",
       "    .dataframe tbody tr th {\n",
       "        vertical-align: top;\n",
       "    }\n",
       "\n",
       "    .dataframe thead th {\n",
       "        text-align: right;\n",
       "    }\n",
       "</style>\n",
       "<table border=\"1\" class=\"dataframe\">\n",
       "  <thead>\n",
       "    <tr style=\"text-align: right;\">\n",
       "      <th>col_0</th>\n",
       "      <th>0</th>\n",
       "      <th>1</th>\n",
       "    </tr>\n",
       "    <tr>\n",
       "      <th>US</th>\n",
       "      <th></th>\n",
       "      <th></th>\n",
       "    </tr>\n",
       "  </thead>\n",
       "  <tbody>\n",
       "    <tr>\n",
       "      <th>0</th>\n",
       "      <td>35</td>\n",
       "      <td>0</td>\n",
       "    </tr>\n",
       "    <tr>\n",
       "      <th>1</th>\n",
       "      <td>0</td>\n",
       "      <td>45</td>\n",
       "    </tr>\n",
       "  </tbody>\n",
       "</table>\n",
       "</div>"
      ],
      "text/plain": [
       "col_0   0   1\n",
       "US           \n",
       "0      35   0\n",
       "1       0  45"
      ]
     },
     "execution_count": 141,
     "metadata": {},
     "output_type": "execute_result"
    }
   ],
   "source": [
    "pd.crosstab(y_test, preds) # getting the 2 way table to understand the correct and wrong predictions"
   ]
  },
  {
   "cell_type": "code",
   "execution_count": 142,
   "id": "6b8e9339",
   "metadata": {},
   "outputs": [
    {
     "data": {
      "text/plain": [
       "1.0"
      ]
     },
     "execution_count": 142,
     "metadata": {},
     "output_type": "execute_result"
    }
   ],
   "source": [
    "# Accuracy\n",
    "np.mean(preds == y_test)"
   ]
  },
  {
   "cell_type": "markdown",
   "id": "ee1a2c4e",
   "metadata": {},
   "source": [
    "### Building Decision Tree classifier (CART) Using GINI criteria"
   ]
  },
  {
   "cell_type": "code",
   "execution_count": 143,
   "id": "a3525036",
   "metadata": {},
   "outputs": [],
   "source": [
    "from sklearn.tree import DecisionTreeClassifier\n",
    "model_gini = DecisionTreeClassifier(criterion = 'gini', max_depth = 3)"
   ]
  },
  {
   "cell_type": "code",
   "execution_count": 144,
   "id": "d1e7d4d5",
   "metadata": {},
   "outputs": [
    {
     "data": {
      "text/plain": [
       "DecisionTreeClassifier(max_depth=3)"
      ]
     },
     "execution_count": 144,
     "metadata": {},
     "output_type": "execute_result"
    }
   ],
   "source": [
    "model_gini.fit(x_train, y_train)"
   ]
  },
  {
   "cell_type": "code",
   "execution_count": 145,
   "id": "064d11b7",
   "metadata": {},
   "outputs": [
    {
     "data": {
      "text/plain": [
       "1.0"
      ]
     },
     "execution_count": 145,
     "metadata": {},
     "output_type": "execute_result"
    }
   ],
   "source": [
    "# Prediction and computing the accuracy\n",
    "pred = model_gini.predict(x_test)\n",
    "np.mean(preds == y_test)"
   ]
  },
  {
   "cell_type": "markdown",
   "id": "70498577",
   "metadata": {},
   "source": [
    "### Decision Tree Regression Example"
   ]
  },
  {
   "cell_type": "markdown",
   "id": "0183e0fa",
   "metadata": {},
   "source": [
    "# Decision tree regression\n"
   ]
  },
  {
   "cell_type": "code",
   "execution_count": 156,
   "id": "4b4e6728",
   "metadata": {},
   "outputs": [],
   "source": [
    "from sklearn.tree import DecisionTreeRegressor"
   ]
  },
  {
   "cell_type": "code",
   "execution_count": 157,
   "id": "bf696d61",
   "metadata": {},
   "outputs": [],
   "source": [
    "array = company.values\n",
    "X = array[:,0:9]\n",
    "Y = array[:,9]"
   ]
  },
  {
   "cell_type": "code",
   "execution_count": 158,
   "id": "0d88d4ea",
   "metadata": {},
   "outputs": [
    {
     "data": {
      "text/plain": [
       "array([[  9.5 , 138.  ,  73.  , ...,  42.  ,  17.  ,   0.  ],\n",
       "       [ 11.22, 111.  ,  48.  , ...,  65.  ,  10.  ,   0.  ],\n",
       "       [ 10.06, 113.  ,  35.  , ...,  59.  ,  12.  ,   0.  ],\n",
       "       ...,\n",
       "       [  7.41, 162.  ,  26.  , ...,  40.  ,  18.  ,   0.  ],\n",
       "       [  5.94, 100.  ,  79.  , ...,  50.  ,  12.  ,   0.  ],\n",
       "       [  9.71, 134.  ,  37.  , ...,  49.  ,  16.  ,   0.  ]])"
      ]
     },
     "execution_count": 158,
     "metadata": {},
     "output_type": "execute_result"
    }
   ],
   "source": [
    "X"
   ]
  },
  {
   "cell_type": "code",
   "execution_count": 159,
   "id": "fd3fc049",
   "metadata": {},
   "outputs": [
    {
     "data": {
      "text/plain": [
       "array([1., 1., 1., 1., 0., 1., 0., 1., 0., 1., 1., 1., 0., 1., 1., 0., 0.,\n",
       "       1., 1., 1., 1., 1., 0., 0., 1., 0., 1., 0., 1., 1., 0., 1., 1., 1.,\n",
       "       1., 1., 0., 1., 0., 0., 0., 0., 0., 1., 1., 1., 1., 0., 0., 0., 1.,\n",
       "       0., 1., 1., 1., 1., 0., 0., 1., 0., 1., 0., 1., 1., 1., 0., 0., 1.,\n",
       "       1., 0., 1., 1., 0., 1., 1., 1., 1., 1., 1., 0., 1., 0., 1., 1., 0.,\n",
       "       0., 0., 1., 1., 0., 0., 1., 0., 0., 1., 1., 1., 1., 1., 1., 1., 0.,\n",
       "       0., 1., 0., 1., 0., 0., 0., 0., 1., 1., 1., 1., 1., 0., 0., 0., 1.,\n",
       "       1., 1., 1., 1., 1., 0., 0., 1., 1., 1., 1., 1., 0., 1., 1., 0., 1.,\n",
       "       0., 0., 1., 1., 1., 0., 0., 1., 0., 1., 0., 1., 1., 1., 1., 1., 0.,\n",
       "       1., 1., 0., 0., 1., 1., 0., 0., 1., 0., 0., 1., 1., 1., 0., 0., 1.,\n",
       "       1., 1., 1., 1., 0., 0., 1., 1., 1., 1., 1., 0., 0., 1., 1., 1., 0.,\n",
       "       0., 0., 1., 1., 1., 0., 1., 1., 1., 1., 0., 1., 1., 0., 0., 1., 0.,\n",
       "       0., 0., 1., 0., 0., 1., 1., 1., 1., 1., 1., 1., 0., 0., 1., 1., 1.,\n",
       "       0., 1., 1., 0., 0., 0., 1., 1., 0., 0., 0., 1., 1., 1., 1., 1., 1.,\n",
       "       0., 1., 0., 0., 0., 1., 0., 1., 1., 0., 1., 0., 1., 1., 0., 1., 1.,\n",
       "       1., 0., 1., 0., 1., 1., 1., 1., 1., 1., 1., 1., 1., 0., 0., 0., 0.,\n",
       "       0., 1., 1., 1., 1., 1., 1., 1., 1., 1., 0., 0., 0., 1., 1., 1., 0.,\n",
       "       1., 1., 0., 1., 0., 1., 1., 1., 1., 0., 1., 1., 1., 1., 1., 1., 1.,\n",
       "       1., 0., 1., 1., 1., 1., 1., 0., 1., 1., 1., 0., 1., 1., 1., 0., 1.,\n",
       "       1., 1., 1., 0., 1., 1., 1., 0., 1., 1., 1., 1., 1., 0., 0., 0., 1.,\n",
       "       0., 0., 1., 1., 1., 0., 0., 0., 1., 1., 1., 1., 1., 1., 1., 0., 0.,\n",
       "       1., 1., 1., 1., 1., 1., 0., 1., 0., 1., 0., 1., 1., 1., 0., 0., 0.,\n",
       "       1., 0., 1., 0., 1., 0., 1., 1., 1., 0., 1., 1., 0., 1., 1., 1., 1.,\n",
       "       0., 1., 1., 1., 1., 1., 1., 1., 1.])"
      ]
     },
     "execution_count": 159,
     "metadata": {},
     "output_type": "execute_result"
    }
   ],
   "source": [
    "# Urban column - Dependent Variable\n",
    "Y"
   ]
  },
  {
   "cell_type": "code",
   "execution_count": 160,
   "id": "351d9900",
   "metadata": {},
   "outputs": [],
   "source": [
    "# splitting data into training and testing dataset\n",
    "X_train, X_test, Y_train, Y_test = train_test_split(X,Y, test_size = 0.33, random_state= 1)"
   ]
  },
  {
   "cell_type": "code",
   "execution_count": 161,
   "id": "a4e9ad46",
   "metadata": {},
   "outputs": [
    {
     "name": "stdout",
     "output_type": "stream",
     "text": [
      "(268, 9)\n",
      "(132, 9)\n",
      "(268,)\n",
      "(132,)\n"
     ]
    }
   ],
   "source": [
    "print(X_train.shape)\n",
    "print(X_test.shape)\n",
    "print(Y_train.shape)\n",
    "print(Y_test.shape)"
   ]
  },
  {
   "cell_type": "code",
   "execution_count": 162,
   "id": "734d2d32",
   "metadata": {},
   "outputs": [
    {
     "data": {
      "text/plain": [
       "DecisionTreeRegressor()"
      ]
     },
     "execution_count": 162,
     "metadata": {},
     "output_type": "execute_result"
    }
   ],
   "source": [
    "model = DecisionTreeRegressor()\n",
    "model.fit(X_train, Y_train)"
   ]
  },
  {
   "cell_type": "code",
   "execution_count": 163,
   "id": "4d0d6836",
   "metadata": {},
   "outputs": [
    {
     "data": {
      "text/plain": [
       "1.0"
      ]
     },
     "execution_count": 163,
     "metadata": {},
     "output_type": "execute_result"
    }
   ],
   "source": [
    "model.score(X_train, Y_train)"
   ]
  },
  {
   "cell_type": "code",
   "execution_count": 164,
   "id": "f238b0ce",
   "metadata": {},
   "outputs": [
    {
     "data": {
      "text/plain": [
       "0.07368421052631591"
      ]
     },
     "execution_count": 164,
     "metadata": {},
     "output_type": "execute_result"
    }
   ],
   "source": [
    "# Find the accuracy\n",
    "model.score(X_test, Y_test)"
   ]
  },
  {
   "cell_type": "code",
   "execution_count": null,
   "id": "b95f703c",
   "metadata": {},
   "outputs": [],
   "source": []
  }
 ],
 "metadata": {
  "kernelspec": {
   "display_name": "Python 3",
   "language": "python",
   "name": "python3"
  },
  "language_info": {
   "codemirror_mode": {
    "name": "ipython",
    "version": 3
   },
   "file_extension": ".py",
   "mimetype": "text/x-python",
   "name": "python",
   "nbconvert_exporter": "python",
   "pygments_lexer": "ipython3",
   "version": "3.8.8"
  }
 },
 "nbformat": 4,
 "nbformat_minor": 5
}
